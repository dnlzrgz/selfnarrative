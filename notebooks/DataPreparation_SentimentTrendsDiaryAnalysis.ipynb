{
 "cells": [
  {
   "cell_type": "markdown",
   "metadata": {},
   "source": [
    "# Introduction\n",
    "\n",
    "I maintain a diary using Obsidian, which is a markdown writing application that support some features like the use of front matter to add metadata to the documents. All of those documents that conform my diary have three main fields which are the one I want to extract and analyze. Those fields are:\n",
    "- **Date**: as the name suggest, is the date of the day in which I wrote that entry or the day for which the entry was written.\n",
    "- **Feeling**: a subjective rating system that I developed to keep track of my mood during the day.\n",
    "- **Important**: indicates whether I considered the day to be special for any particular reason.\n",
    "\n",
    "The purpose of this notebook then is to extract these fields from each document and compile them into a CSV file. Also, I plan to generate some features like the year, month, week and weekday from the date and a system to be able to track my mood better later."
   ]
  },
  {
   "cell_type": "markdown",
   "metadata": {},
   "source": [
    "## Set Up"
   ]
  },
  {
   "cell_type": "code",
   "execution_count": null,
   "metadata": {},
   "outputs": [],
   "source": [
    "# Install dependencies\n",
    "%pip install polars \"black[jupyter]\""
   ]
  },
  {
   "cell_type": "markdown",
   "metadata": {},
   "source": [
    "## Data Extraction"
   ]
  },
  {
   "cell_type": "code",
   "execution_count": null,
   "metadata": {},
   "outputs": [],
   "source": [
    "import sys\n",
    "from pathlib import Path\n",
    "\n",
    "# Add the \"src\" directory to the Python path\n",
    "src_path = Path.cwd().parent / \"src\"\n",
    "sys.path.append(str(src_path))"
   ]
  },
  {
   "cell_type": "code",
   "execution_count": null,
   "metadata": {},
   "outputs": [],
   "source": [
    "# Import util functions\n",
    "from extract_frontmatter import extract_frontmatter, write_entries_to_csv"
   ]
  },
  {
   "cell_type": "code",
   "execution_count": null,
   "metadata": {},
   "outputs": [],
   "source": [
    "# Define paths\n",
    "diary_entries = Path(\"../data/raw/diary/\")\n",
    "interim_csv_path = Path(\"../data/interim/diary.csv\")\n",
    "processed_csv_path = Path(\"../data/processed/diary.csv\")"
   ]
  },
  {
   "cell_type": "code",
   "execution_count": null,
   "metadata": {},
   "outputs": [],
   "source": [
    "# Extract fields from front matter\n",
    "raw_entries = extract_frontmatter(diary_entries)\n",
    "raw_entries[:5]"
   ]
  },
  {
   "cell_type": "code",
   "execution_count": null,
   "metadata": {},
   "outputs": [],
   "source": [
    "# write fields to interim CSV\n",
    "write_entries_to_csv(raw_entries, interim_csv_path)"
   ]
  },
  {
   "cell_type": "markdown",
   "metadata": {},
   "source": [
    "## Data Extraction and Feature Engineering"
   ]
  },
  {
   "cell_type": "code",
   "execution_count": null,
   "metadata": {},
   "outputs": [],
   "source": [
    "# Import polars\n",
    "import polars as pl"
   ]
  },
  {
   "cell_type": "code",
   "execution_count": null,
   "metadata": {},
   "outputs": [],
   "source": [
    "df = pl.read_csv(interim_csv_path, try_parse_dates=True)"
   ]
  },
  {
   "cell_type": "code",
   "execution_count": null,
   "metadata": {},
   "outputs": [],
   "source": [
    "df.shape"
   ]
  },
  {
   "cell_type": "code",
   "execution_count": null,
   "metadata": {},
   "outputs": [],
   "source": [
    "df.sample(5)"
   ]
  },
  {
   "cell_type": "code",
   "execution_count": null,
   "metadata": {},
   "outputs": [],
   "source": [
    "# Get a list of the feelings I used to track my mood\n",
    "df[\"feeling\"].unique().to_list()"
   ]
  },
  {
   "cell_type": "code",
   "execution_count": null,
   "metadata": {},
   "outputs": [],
   "source": [
    "feeling_mapping = {\n",
    "    \"unknown\": 0,\n",
    "    \"very sad\": -2,\n",
    "    \"sad\": -1,\n",
    "    \"alone\": -1,\n",
    "    \"drama\": -1,\n",
    "    \"sick\": -1,\n",
    "    \"stressful\": -1,\n",
    "    \"angry\": -1,\n",
    "    \"tired\": -1,\n",
    "    \"emotional\": -1,\n",
    "    \"normal\": 0,\n",
    "    \"productive\": 1,\n",
    "    \"inspired\": 1,\n",
    "    \"happy\": 1,\n",
    "    \"very happy\": 2,\n",
    "}"
   ]
  },
  {
   "cell_type": "code",
   "execution_count": null,
   "metadata": {},
   "outputs": [],
   "source": [
    "# Create features like year, month, week, weekday and enconded_mood\n",
    "df = (\n",
    "    df.with_columns(\n",
    "        year=df[\"date\"].dt.year().cast(pl.Int16),\n",
    "        month=df[\"date\"].dt.month().cast(pl.Int8),\n",
    "        day=df[\"date\"].dt.day().cast(pl.Int8),\n",
    "        week=df[\"date\"].dt.week().cast(pl.Int8),\n",
    "        weekday=df[\"date\"].dt.weekday().cast(pl.Int16),\n",
    "        mood=df[\"feeling\"].cast(pl.Categorical),\n",
    "        encoded_mood=df[\"feeling\"]\n",
    "        .map_elements(lambda x: feeling_mapping.get(x, None))\n",
    "        .cast(pl.Int8),\n",
    "    )\n",
    "    .select(\n",
    "        [\n",
    "            \"year\",\n",
    "            \"month\",\n",
    "            \"day\",\n",
    "            \"week\",\n",
    "            \"weekday\",\n",
    "            \"mood\",\n",
    "            \"encoded_mood\",\n",
    "        ],\n",
    "    )\n",
    "    .sort([\"year\", \"month\", \"day\"])\n",
    ")"
   ]
  },
  {
   "cell_type": "code",
   "execution_count": null,
   "metadata": {},
   "outputs": [],
   "source": [
    "df.sample(5)"
   ]
  },
  {
   "cell_type": "markdown",
   "metadata": {},
   "source": [
    "## Data Export"
   ]
  },
  {
   "cell_type": "code",
   "execution_count": null,
   "metadata": {},
   "outputs": [],
   "source": [
    "# Write final CSV\n",
    "df.write_csv(processed_csv_path)"
   ]
  }
 ],
 "metadata": {
  "kernelspec": {
   "display_name": "venv",
   "language": "python",
   "name": "python3"
  },
  "language_info": {
   "codemirror_mode": {
    "name": "ipython",
    "version": 3
   },
   "file_extension": ".py",
   "mimetype": "text/x-python",
   "name": "python",
   "nbconvert_exporter": "python",
   "pygments_lexer": "ipython3",
   "version": "3.10.13"
  }
 },
 "nbformat": 4,
 "nbformat_minor": 2
}
