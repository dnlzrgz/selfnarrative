{
 "cells": [
  {
   "cell_type": "markdown",
   "metadata": {},
   "source": [
    "# Introduction\n",
    "\n",
    "Since March 11, 2020, I've been consistently maintaining a diary in which I have been documenting what I did, how the day unfolded and how I felt. Over time, as I continued this daily habit, curiosity crept in and I started wondering about what my diary could reveal about me. Was I happier in the past, or am I happier now? How many bad days have I had? How many good days?  \n",
    "In this notebook I plan to answer those questions and to gain some insights about myself and my life."
   ]
  },
  {
   "cell_type": "markdown",
   "metadata": {},
   "source": [
    "## Set Up"
   ]
  },
  {
   "cell_type": "code",
   "execution_count": null,
   "metadata": {},
   "outputs": [],
   "source": [
    "# Install dependencies\n",
    "%pip install polars pandas matplotlib seaborn \"black[jupyter]\""
   ]
  },
  {
   "cell_type": "markdown",
   "metadata": {},
   "source": [
    "# Data Loading\n",
    "\n",
    "> Before using this notebook its essential to have first extracted the metadata from my diary."
   ]
  },
  {
   "cell_type": "code",
   "execution_count": null,
   "metadata": {},
   "outputs": [],
   "source": [
    "import polars as pl"
   ]
  },
  {
   "cell_type": "code",
   "execution_count": null,
   "metadata": {},
   "outputs": [],
   "source": [
    "# Define paths\n",
    "csv_path = \"../data/processed/diary.csv\""
   ]
  },
  {
   "cell_type": "code",
   "execution_count": null,
   "metadata": {},
   "outputs": [],
   "source": [
    "df = pl.read_csv(\n",
    "    csv_path,\n",
    "    try_parse_dates=True,\n",
    ")"
   ]
  },
  {
   "cell_type": "code",
   "execution_count": null,
   "metadata": {},
   "outputs": [],
   "source": [
    "df = df.with_columns(\n",
    "    year=df[\"year\"].cast(pl.Int16),\n",
    "    month=df[\"month\"].cast(pl.Int8),\n",
    "    day=df[\"day\"].cast(pl.Int8),\n",
    "    week=df[\"week\"].cast(pl.Int8),\n",
    "    weekday=df[\"weekday\"].cast(pl.Int16),\n",
    "    mood=df[\"mood\"].cast(pl.Categorical),\n",
    "    encoded_mood=df[\"encoded_mood\"].cast(pl.Int8),\n",
    ")"
   ]
  },
  {
   "cell_type": "code",
   "execution_count": null,
   "metadata": {},
   "outputs": [],
   "source": [
    "df.sample(5)"
   ]
  },
  {
   "cell_type": "markdown",
   "metadata": {},
   "source": [
    "# Initial Data Exploration"
   ]
  },
  {
   "cell_type": "code",
   "execution_count": null,
   "metadata": {},
   "outputs": [],
   "source": [
    "(\n",
    "    df.group_by(\"mood\")\n",
    "    .agg(pl.col(\"mood\").count().alias(\"count\"))\n",
    "    .sort(\"count\", descending=True)\n",
    ")"
   ]
  },
  {
   "cell_type": "code",
   "execution_count": null,
   "metadata": {},
   "outputs": [],
   "source": [
    "(\n",
    "    df.group_by(\"encoded_mood\")\n",
    "    .agg(pl.col(\"encoded_mood\").count().alias(\"count\"))\n",
    "    .sort(\"encoded_mood\")\n",
    ")"
   ]
  },
  {
   "cell_type": "code",
   "execution_count": null,
   "metadata": {},
   "outputs": [],
   "source": [
    "df[\"encoded_mood\"].sum()"
   ]
  },
  {
   "cell_type": "code",
   "execution_count": null,
   "metadata": {},
   "outputs": [],
   "source": [
    "df.group_by(\"year\").sum().select([\"year\", \"encoded_mood\"]).sort(\"year\")"
   ]
  },
  {
   "cell_type": "code",
   "execution_count": null,
   "metadata": {},
   "outputs": [],
   "source": [
    "(\n",
    "    df.filter(df[\"year\"] == 2020)\n",
    "    .group_by([\"year\", \"month\"])\n",
    "    .sum()\n",
    "    .select([\"month\", \"encoded_mood\"])\n",
    "    .sort([\"month\"])\n",
    ")"
   ]
  },
  {
   "cell_type": "code",
   "execution_count": null,
   "metadata": {},
   "outputs": [],
   "source": [
    "(\n",
    "    df.filter(df[\"year\"] == 2021)\n",
    "    .group_by([\"year\", \"month\"])\n",
    "    .sum()\n",
    "    .select([\"month\", \"encoded_mood\"])\n",
    "    .sort([\"month\"])\n",
    ")"
   ]
  },
  {
   "cell_type": "code",
   "execution_count": null,
   "metadata": {},
   "outputs": [],
   "source": [
    "(\n",
    "    df.filter(df[\"year\"] == 2022)\n",
    "    .group_by([\"year\", \"month\"])\n",
    "    .sum()\n",
    "    .select([\"month\", \"encoded_mood\"])\n",
    "    .sort([\"month\"])\n",
    ")"
   ]
  },
  {
   "cell_type": "code",
   "execution_count": null,
   "metadata": {},
   "outputs": [],
   "source": [
    "(\n",
    "    df.filter(df[\"year\"] == 2023)\n",
    "    .group_by([\"year\", \"month\"])\n",
    "    .sum()\n",
    "    .select([\"month\", \"encoded_mood\"])\n",
    "    .sort([\"month\"])\n",
    ")"
   ]
  },
  {
   "cell_type": "code",
   "execution_count": null,
   "metadata": {},
   "outputs": [],
   "source": [
    "df.group_by(\"month\").sum().select([\"month\", \"encoded_mood\"]).sort(\"month\")"
   ]
  },
  {
   "cell_type": "code",
   "execution_count": null,
   "metadata": {},
   "outputs": [],
   "source": [
    "df.group_by(\"weekday\").sum().select([\"weekday\", \"encoded_mood\"]).sort(\"weekday\")"
   ]
  },
  {
   "cell_type": "code",
   "execution_count": null,
   "metadata": {},
   "outputs": [],
   "source": [
    "df.group_by(\"week\").sum().select([\"week\", \"encoded_mood\"]).sort(\"week\")"
   ]
  },
  {
   "cell_type": "markdown",
   "metadata": {},
   "source": [
    "## Data Visualization"
   ]
  },
  {
   "cell_type": "code",
   "execution_count": null,
   "metadata": {},
   "outputs": [],
   "source": [
    "import matplotlib as mpl\n",
    "import matplotlib.pyplot as plt\n",
    "import seaborn as sns"
   ]
  },
  {
   "cell_type": "code",
   "execution_count": null,
   "metadata": {},
   "outputs": [],
   "source": [
    "sns.set_theme(style=\"ticks\", context=\"talk\")"
   ]
  },
  {
   "cell_type": "code",
   "execution_count": null,
   "metadata": {},
   "outputs": [],
   "source": [
    "def df_by_year(year: int, df: pl.DataFrame) -> pl.DataFrame:\n",
    "    return df.filter(df[\"year\"] == year).sort(\n",
    "        [\n",
    "            \"year\",\n",
    "            \"month\",\n",
    "            \"day\",\n",
    "        ],\n",
    "    )"
   ]
  },
  {
   "cell_type": "code",
   "execution_count": null,
   "metadata": {},
   "outputs": [],
   "source": [
    "plt.figure(figsize=(5, 7))\n",
    "\n",
    "sns.barplot(\n",
    "    df.group_by(\"mood\").agg(pl.col(\"mood\").count().alias(\"count\")),\n",
    "    hue=\"mood\",\n",
    "    x=\"count\",\n",
    "    y=\"mood\",\n",
    "    legend=False,\n",
    "    palette=\"rocket\",\n",
    ")\n",
    "\n",
    "plt.xlabel(\"Count\")\n",
    "plt.ylabel(\"Mood\")\n",
    "\n",
    "plt.title(\"Number of Records per Mood\")\n",
    "\n",
    "plt.show()"
   ]
  },
  {
   "cell_type": "code",
   "execution_count": null,
   "metadata": {},
   "outputs": [],
   "source": [
    "df_2021 = df_by_year(2021, df)\n",
    "df_2022 = df_by_year(2022, df)\n",
    "df_2023 = df_by_year(2023, df)"
   ]
  }
 ],
 "metadata": {
  "kernelspec": {
   "display_name": "venv",
   "language": "python",
   "name": "python3"
  },
  "language_info": {
   "codemirror_mode": {
    "name": "ipython",
    "version": 3
   },
   "file_extension": ".py",
   "mimetype": "text/x-python",
   "name": "python",
   "nbconvert_exporter": "python",
   "pygments_lexer": "ipython3",
   "version": "3.10.13"
  }
 },
 "nbformat": 4,
 "nbformat_minor": 2
}
